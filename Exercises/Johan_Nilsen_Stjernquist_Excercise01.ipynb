{
 "cells": [
  {
   "cell_type": "markdown",
   "metadata": {},
   "source": [
    "\n",
    "<a href=\"https://colab.research.google.com/github/kokchun/Python-course-AI22/blob/main/Exercises/01-if-statement-exercise.ipynb\" target=\"_parent\"><img align=\"left\" src=\"https://colab.research.google.com/assets/colab-badge.svg\" alt=\"Open In Colab\"/></a> &nbsp; to see hints and answers."
   ]
  },
  {
   "cell_type": "markdown",
   "metadata": {},
   "source": [
    "# if statements exercises\n",
    "\n",
    "---\n",
    "These are introductory exercises in Python with focus in **if** statement.\n",
    "\n",
    "<p class = \"alert alert-info\" role=\"alert\"><b>Remember</b> to use <b>descriptive variable names</b> in order to get readable code </p>\n",
    "\n",
    "<p class = \"alert alert-info\" role=\"alert\"><b>Remember</b> to format your answers in a neat way using <b>f-strings</b>\n",
    "\n",
    "<p class = \"alert alert-info\" role=\"alert\"><b>Remember</b> to format your input questions in a pedagogical way to guide the user\n",
    "\n",
    "The number of stars (\\*), (\\*\\*), (\\*\\*\\*) denotes the difficulty level of the task\n",
    "\n",
    "---"
   ]
  },
  {
   "cell_type": "markdown",
   "metadata": {},
   "source": [
    "## 1. Check sign (*)\n",
    "\n",
    "Ask the user to input a number and check if this number is **positive**, **negative** or **zero** and print it out."
   ]
  },
  {
   "cell_type": "code",
   "execution_count": 35,
   "metadata": {},
   "outputs": [
    {
     "name": "stdout",
     "output_type": "stream",
     "text": [
      "Number is positive\n"
     ]
    }
   ],
   "source": [
    "#Satte en int(input(\"\")) för att inputten blev till en sträng\n",
    "number = int(input(\"Input a number:\"))\n",
    "\n",
    "if number == 0:\n",
    "  print(\"Number is zero\")\n",
    "elif number > 0:\n",
    "  print(\"Number is positive\")\n",
    "elif number < 0:\n",
    "  print(\"Number is negative\")\n",
    "else:\n",
    "  print(\"Was not able to find number\")"
   ]
  },
  {
   "cell_type": "markdown",
   "metadata": {},
   "source": [
    "---\n",
    "## 2. Smallest (*)\n",
    "Ask the user to input two numbers and check which one is the smallest and print it out.   "
   ]
  },
  {
   "cell_type": "code",
   "execution_count": 10,
   "metadata": {},
   "outputs": [
    {
     "name": "stdout",
     "output_type": "stream",
     "text": [
      "The numbers are the same, silly you.\n"
     ]
    }
   ],
   "source": [
    "#För att sätta in två värden använder man input(a) och input(b)\n",
    "a = input(\"First number:\")\n",
    "b = input(\"Second number:\")\n",
    "if a < b:\n",
    "  print(a,\"is smallest number\")\n",
    "elif b < a:\n",
    "  print(b,\"is smallest number\")\n",
    "elif a == b:\n",
    "  print(\"The numbers are the same, silly you.\")\n",
    "# Kan också lösa det som if a < b: print(a) else: print(b)"
   ]
  },
  {
   "cell_type": "markdown",
   "metadata": {},
   "source": [
    "---\n",
    "## 3. Right angle (*)\n",
    "\n",
    "Ask the user to input three angles and check if the triangle has a right angle. Your code should make sure that all three angles are valid and make up a triangle.\n",
    "\n",
    "<img align=\"left\" src=\"../assets/triangle_angles.png\" width=\"200\"/>"
   ]
  },
  {
   "cell_type": "code",
   "execution_count": 22,
   "metadata": {},
   "outputs": [
    {
     "name": "stdout",
     "output_type": "stream",
     "text": [
      "The triangle is valid!\n",
      "You've made a right angle triangle\n"
     ]
    },
    {
     "data": {
      "text/plain": [
       "'Hello My name is:  Johan'"
      ]
     },
     "execution_count": 22,
     "metadata": {},
     "output_type": "execute_result"
    }
   ],
   "source": [
    "# input(a,b,c)\n",
    "#Kollar om det är ett triangel där graderna når upp till 180\n",
    "a = int(input(\"Input angle A\"))\n",
    "b = int(input(\"Input angle B\"))\n",
    "c = int(input(\"Input angle C\"))\n",
    "\n",
    "#Kollar om du är en riktig triangel som blir 180 grader tillsamans\n",
    "def valid_triangle(a,b,c):\n",
    "  return a + b + c == 180\n",
    "# Kollar om någon vinkel är 90 grader och ifall någon är det returnar den true\n",
    "def right_angle(a,b,c):\n",
    "  return a == 90 or b == 90 or c == 90\n",
    "\n",
    "if valid_triangle(a,b,c):\n",
    "  print(\"The triangle is valid!\")\n",
    "  if right_angle(a,b,c):\n",
    "    print(\"You've made a right angle triangle\")\n",
    "  else:\n",
    "    print(\"The triangle is whole but it's not right angle\")\n",
    "else:\n",
    "  print(\"You need to have all 3 angles add up to 180 degrees for it to form a triangle\")\n",
    "\n",
    "\n",
    "f\"Angle A is {a} degrees, angle B is {b} degrees, angle C is {c} degrees\"\n",
    "\n"
   ]
  },
  {
   "cell_type": "markdown",
   "metadata": {},
   "source": [
    "----\n",
    "## 4. Medicine (*)\n",
    "\n",
    "The information in the following table is stated in a medicine package. Also it is stated that for children weight is more important than age.\n",
    "\n",
    "<table align=\"left\">\n",
    "<thead>\n",
    "    <tr>\n",
    "        <th></th>\n",
    "        <th>Age</th>\n",
    "        <th>Number of pills</th>\n",
    "    </tr>\n",
    "</thead>\n",
    "\n",
    "<tbody>\n",
    "  <tr>\n",
    "    <td>Adults & adolescent <br>over 40 kg</td>\n",
    "    <td>over 12 years</td>\n",
    "    <td>1-2</td>\n",
    "  </tr>\n",
    "\n",
    "  <tr>\n",
    "    <td>Children 26-40 kg</td>\n",
    "    <td>7-12 years</td>\n",
    "    <td>1/2-1</td>\n",
    "  </tr>\n",
    "\n",
    "  <tr>\n",
    "    <td>Children 15-25 kg</td>\n",
    "    <td>3-7 years</td>\n",
    "    <td>1/2</td>\n",
    "  </tr>\n",
    "</tbody>\n",
    "</table>"
   ]
  },
  {
   "cell_type": "code",
   "execution_count": 47,
   "metadata": {},
   "outputs": [
    {
     "name": "stdout",
     "output_type": "stream",
     "text": [
      "We recommend 1/2 pill\n"
     ]
    }
   ],
   "source": [
    "age = int(input(\"Input age:\"))\n",
    "weight = int(input(\"Input weight:\"))\n",
    "\n",
    "if weight > 40 and age > 12:\n",
    "  print(\"We recommend 1-2 pills\")\n",
    "elif weight > 26 and  age>= 7:\n",
    "  print(\"We recommend 1/2 - 1 pill\")\n",
    "elif weight >= 15 and age >= 3:\n",
    "  print(\"We recommend 1/2 pill\")\n",
    "else:\n",
    "  print(\"The range wasn't within our recommendations. Please contact a doctor for assistance\")\n",
    "\n",
    "#Något är fel med denna :("
   ]
  },
  {
   "cell_type": "markdown",
   "metadata": {},
   "source": [
    "Let the user input an **age** and a **weight**, the program should recommend the number of pills for the user."
   ]
  },
  {
   "cell_type": "markdown",
   "metadata": {},
   "source": [
    "---\n",
    "## 5. Divisible (*)\n",
    "Let the user input a number. Check if the number is\n",
    "<ol type=\"a\">\n",
    "  <li>even or odd</li>\n",
    "  <li>is divisible by 5</li>\n",
    "  <li>is divisble by 5 and odd</li>\n",
    "</ol> "
   ]
  },
  {
   "cell_type": "code",
   "execution_count": 65,
   "metadata": {},
   "outputs": [
    {
     "name": "stdout",
     "output_type": "stream",
     "text": [
      "A: This number is odd\n",
      "B: You can divide this by 5\n",
      "C: You can divide this by 5 and the number is odd\n"
     ]
    }
   ],
   "source": [
    "number = int(input(\"Input a number:\"))\n",
    "\n",
    "#A\n",
    "if (number % 2) == 0:\n",
    "  print(\"A: This number is even\")\n",
    "else:\n",
    "  print(\"A: This number is odd\")\n",
    "#B\n",
    "if (number % 5) == 0:\n",
    "  print(\"B: You can divide this by 5\")\n",
    "#C\n",
    "if (number % 5) == 0 and (number % 2 != 0):\n",
    "  print(\"C: You can divide this by 5 and the number is odd\")\n",
    "\n",
    "#Kan förbättras med fstring\n",
    "\n",
    "\n",
    "\n",
    "  "
   ]
  },
  {
   "cell_type": "markdown",
   "metadata": {},
   "source": [
    "---\n",
    "## 6. Luggage size (*)\n",
    "\n",
    "The maximum allowed luggage size for boarding an airplane is: \n",
    "- weight: 8kg\n",
    "- dimensions: 55x40x23cm (length x width x height) \n",
    "\n",
    "Let the user input weight, length, width and height of the luggage. The program should check if the luggage is allowed or not."
   ]
  },
  {
   "cell_type": "code",
   "execution_count": 27,
   "metadata": {},
   "outputs": [
    {
     "name": "stdout",
     "output_type": "stream",
     "text": [
      "Hello and welcome! The weight of your luggage is 5kg and the dimensions of luggage is 90x90x90cm  Luggage to big\n"
     ]
    }
   ],
   "source": [
    "weight = int(input(\"Input the weight of luggage:\"))\n",
    "len = int(input(\"Input the length of luggage:\"))\n",
    "wid = int(input(\"Input the width of luggage:\"))\n",
    "hei = int(input(\"Input the height of luggage:\"))\n",
    "\n",
    "message = (\n",
    "  f\"Hello and welcome! \"\n",
    "  f\"The weight of your luggage is {weight}kg \"\n",
    "  f\"and the dimensions of luggage is {len}x{wid}x{hei}cm\"\n",
    ")\n",
    "\n",
    "if weight > 8:\n",
    "  print(\"This luggage is to heavy\")\n",
    "elif len > 55 or wid > 40 or hei > 23:\n",
    "  print(message,\" Luggage is to big!\")\n",
    "else:\n",
    "  print(message, \" You passed the test!\")"
   ]
  },
  {
   "cell_type": "markdown",
   "metadata": {},
   "source": [
    "---\n",
    "\n",
    "Kokchun Giang\n",
    "\n",
    "[LinkedIn][linkedIn_kokchun]\n",
    "\n",
    "[GitHub portfolio][github_portfolio]\n",
    "\n",
    "[linkedIn_kokchun]: https://www.linkedin.com/in/kokchungiang/\n",
    "[github_portfolio]: https://github.com/kokchun/Portfolio-Kokchun-Giang\n",
    "\n",
    "---"
   ]
  }
 ],
 "metadata": {
  "kernelspec": {
   "display_name": "Python 3.9.6 64-bit",
   "language": "python",
   "name": "python3"
  },
  "language_info": {
   "codemirror_mode": {
    "name": "ipython",
    "version": 3
   },
   "file_extension": ".py",
   "mimetype": "text/x-python",
   "name": "python",
   "nbconvert_exporter": "python",
   "pygments_lexer": "ipython3",
   "version": "3.11.5"
  },
  "orig_nbformat": 4,
  "vscode": {
   "interpreter": {
    "hash": "0da836a34428266995a795f1e1e27b816fa1c02f148d9728b3fbbbc5459afca6"
   }
  }
 },
 "nbformat": 4,
 "nbformat_minor": 2
}
