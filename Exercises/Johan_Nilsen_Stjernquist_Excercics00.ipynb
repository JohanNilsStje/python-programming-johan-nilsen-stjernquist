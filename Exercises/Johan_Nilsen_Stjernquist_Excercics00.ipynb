{
  "cells": [
    {
      "cell_type": "markdown",
      "metadata": {
        "id": "wBk-lBMhdurJ"
      },
      "source": [
        "\n",
        "<a href=\"https://colab.research.google.com/github/kokchun/Python-course-AI22/blob/main/Exercises/00-Count-with-Python-exercise.ipynb\" target=\"_parent\"><img align=\"left\" src=\"https://colab.research.google.com/assets/colab-badge.svg\" alt=\"Open In Colab\"/></a> &nbsp; to see hints and answers."
      ]
    },
    {
      "cell_type": "markdown",
      "metadata": {
        "id": "ow6k4VWbdurM"
      },
      "source": [
        "# Count with Python\n",
        "\n",
        "---\n",
        "These are introductory exercises in Python for fundamental mathematics. It is important to both know mathematics as well as Python in order to understand machine learning concepts. Also a focus here is to use Python as a tool for solving mathematical problems.\n",
        "\n",
        "<p class = \"alert alert-info\" role=\"alert\"><b>Remember</b> to use <b>variables</b> in your computations </p>\n",
        "\n",
        "<p class = \"alert alert-info\" role=\"alert\"><b>Remember</b> to format your answers in a neat way using <b>f-strings</b>\n",
        "\n",
        "The number of stars (\\*), (\\*\\*), (\\*\\*\\*) denotes the difficulty level of the task\n",
        "\n",
        "---"
      ]
    },
    {
      "cell_type": "markdown",
      "metadata": {
        "id": "mZ9ZSA4EdurN"
      },
      "source": [
        "## 1. Pythagorean theorem (*)\n",
        "\n",
        "&nbsp; a) &nbsp;  A right angled triangle has the catheti: a = 3 and b = 4 length units. Compute the <b>hypothenuse</b> of the triangle. (*)\n",
        "  \n",
        "&nbsp; b) &nbsp;  A right angled triangle has hypothenuse c = 7.0 and a cathetus a = 5.0 length units. Compute the other cathetus and round to one decimal. (*)\n",
        "\n",
        "<img align=\"left\" src=\"https://github.com/kokchun/Python-course-AI22/blob/main/assets/right-angle-triangle.png?raw=1\" width=\"200\"/>"
      ]
    },
    {
      "cell_type": "markdown",
      "metadata": {
        "id": "nPBQDYt4durN"
      },
      "source": [
        "\n",
        "<details>\n",
        "\n",
        "<summary>Hint</summary>\n",
        "\n",
        "[Video lecture][pythagoras_video] (swedish)\n",
        "\n",
        "[pythagoras_video]: https://www.youtube.com/watch?v=3iivEnKEJ88\n",
        "\n",
        "To do square root in Python\n",
        "```python\n",
        "import math\n",
        "math.sqrt()\n",
        "```\n",
        "\n",
        "</details>\n",
        "<br>\n",
        "<details>\n",
        "\n",
        "<summary>Answer</summary>\n",
        "a)\n",
        "\n",
        "```\n",
        "The hypothenuse is 5 length units\n",
        "```\n",
        "\n",
        "b)\n",
        "\n",
        "```\n",
        "The other cathetus is 4.9 length units\n",
        "```\n",
        "\n",
        "</details>"
      ]
    },
    {
      "cell_type": "code",
      "execution_count": 61,
      "metadata": {},
      "outputs": [
        {
          "name": "stdout",
          "output_type": "stream",
          "text": [
            "5.0\n"
          ]
        },
        {
          "data": {
            "text/plain": [
              "'5.0 är svaret på a)'"
            ]
          },
          "execution_count": 61,
          "metadata": {},
          "output_type": "execute_result"
        }
      ],
      "source": [
        "#A\n",
        "import math\n",
        "# a)\n",
        "a = 3\n",
        "b = 4\n",
        "\n",
        "def solvera(a,b):\n",
        "  c = a * a + b * b\n",
        "  return math.sqrt(c)\n",
        "\n",
        "print(solvera(a,b))\n",
        "f\"{solvera(a,b)} är svaret på a)\""
      ]
    },
    {
      "cell_type": "code",
      "execution_count": 49,
      "metadata": {},
      "outputs": [
        {
          "name": "stdout",
          "output_type": "stream",
          "text": [
            "4.9\n"
          ]
        },
        {
          "data": {
            "text/plain": [
              "'4.9 är svaret på B'"
            ]
          },
          "execution_count": 49,
          "metadata": {},
          "output_type": "execute_result"
        }
      ],
      "source": [
        "# b) A² + B² = C²\n",
        "\n",
        "a = 5\n",
        "c = 7\n",
        "\n",
        "def solverb(c,a):\n",
        "  bb = c*c - a*a\n",
        "  return round(math.sqrt(bb),1)\n",
        "print(solverb(c,a))\n",
        "\n",
        "f\"{solverb(c,a)} är svaret på B\""
      ]
    },
    {
      "cell_type": "markdown",
      "metadata": {
        "id": "M35kWwoRdurO"
      },
      "source": [
        "-----\n",
        "## 2. Classification accuracy (*)\n",
        "\n",
        "A machine learning algorithm has been trained to predict whether or not it would rain the next day. Out of 365 predictions, it got 300 correct, compute the accuracy of this model."
      ]
    },
    {
      "cell_type": "code",
      "execution_count": 60,
      "metadata": {
        "colab": {
          "base_uri": "https://localhost:8080/"
        },
        "id": "TNKzqOEmiJWc",
        "outputId": "12cccc4d-6abd-443b-a524-bf9df90d451d"
      },
      "outputs": [
        {
          "data": {
            "text/plain": [
              "'82.19 %'"
            ]
          },
          "execution_count": 60,
          "metadata": {},
          "output_type": "execute_result"
        }
      ],
      "source": [
        "totpredictions = 365\n",
        "corpredictions = 300\n",
        "accuracy =  corpredictions / totpredictions\n",
        "\n",
        "# print(round(accuracy,4) * 100, \"%\")\n",
        "f\"{round(accuracy,4) * 100} %\""
      ]
    },
    {
      "cell_type": "markdown",
      "metadata": {
        "id": "XIL6bwEVdurO"
      },
      "source": [
        "---\n",
        "## 3. Classification accuracy (*)\n",
        "A machine learning model has been trained to detect fire. Here is the result of its predictions:\n",
        "\n",
        "<table align=\"left\">\n",
        "<tbody>\n",
        "  <tr>\n",
        "    <td>True Positive (TP)\n",
        "      <ul>\n",
        "        <li>Reality: fire</li>\n",
        "        <li>Predicted: fire</li>\n",
        "        <li>Number of TP: 2</li>\n",
        "      </ul>\n",
        "    </td>\n",
        "    <td>False Positive (FP)\n",
        "      <ul>\n",
        "        <li>Reality: no fire</li>\n",
        "        <li>Predicted: fire</li>\n",
        "        <li>Number of FP: 2</li>\n",
        "      </ul>\n",
        "    </td>\n",
        "  </tr>\n",
        "\n",
        "  <tr>\n",
        "    <td>False Negative (FN)\n",
        "      <ul>\n",
        "        <li>Reality: fire</li>\n",
        "        <li>Predicted: no fire</li>\n",
        "        <li>Number of FN: 11</li>\n",
        "      </ul>\n",
        "    </td>\n",
        "    <td>True Negative (TN)\n",
        "      <ul>\n",
        "        <li>Reality: no fire</li>\n",
        "        <li>Predicted: no fire</li>\n",
        "        <li>Number of TN: 985</li>\n",
        "      </ul>\n",
        "    </td>\n",
        "  </tr>\n",
        "</tbody>\n",
        "</table>"
      ]
    },
    {
      "cell_type": "markdown",
      "metadata": {
        "id": "lBKS10twdurO"
      },
      "source": [
        "Calculated the accuracy using the following formula:\n",
        "\n",
        "$\\text{accuracy} = \\frac{TP+TN}{TP+TN+FP+FN}$\n",
        "\n",
        "Is this a good model?\n",
        "\n",
        "<details>\n",
        "\n",
        "<summary>Hint </summary>\n",
        "\n",
        "Try to understand what it means for the actual user with each category\n",
        "\n",
        "</details>\n",
        "<br>\n",
        "<details>\n",
        "\n",
        "<summary>Answer </summary>\n",
        "\n",
        "```\n",
        "The accuracy of this model is 0.987.\n",
        "```\n",
        "\n",
        "</details>"
      ]
    },
    {
      "cell_type": "code",
      "execution_count": 59,
      "metadata": {
        "colab": {
          "base_uri": "https://localhost:8080/"
        },
        "id": "hCrMDVajjWdu",
        "outputId": "6a4857a9-472b-46a3-ad3b-ba260af349d2"
      },
      "outputs": [
        {
          "data": {
            "text/plain": [
              "'Träfsäkerheten är: 0.987 vilket motsvarar 98.7%'"
            ]
          },
          "execution_count": 59,
          "metadata": {},
          "output_type": "execute_result"
        }
      ],
      "source": [
        "tp = 2\n",
        "fp = 2\n",
        "fn = 11\n",
        "tn = 985\n",
        "\n",
        "accuracy = (tp + tn) / (tp + tn + fp + fn)\n",
        "f\"Träfsäkerheten är: {accuracy} vilket motsvarar 98.7%\""
      ]
    },
    {
      "cell_type": "markdown",
      "metadata": {
        "id": "EUvBvoeDdurP"
      },
      "source": [
        "---\n",
        "## 4. Line (*)\n",
        "Compute the slope $k$ and the constant term $m$ of this line using the points $A: (4,4)$ and $B: (0,1)$.  \n",
        "\n",
        "<img align=\"left\" src=\"https://github.com/kokchun/Python-course-AI22/blob/main/assets/line.png?raw=1\" width=\"200\"/>"
      ]
    },
    {
      "cell_type": "markdown",
      "metadata": {
        "id": "8TWhJsK5durP"
      },
      "source": [
        "<details>\n",
        "\n",
        "<summary>Hint </summary>\n",
        "\n",
        "$k = \\frac{\\Delta y}{\\Delta x} = \\frac{y_2 - y_1}{x_2 - x_1}$\n",
        "\n",
        "Either plug in one point into $y = kx + m$ and solve for $m$ or read the intersection with y-axis in the graph.\n",
        "\n",
        "[Video lecture][video_line] (Swedish)\n",
        "\n",
        "[video_line]: https://www.youtube.com/watch?v=9Buuq6rkaJ0\n",
        "\n",
        "</details>\n",
        "<br>\n",
        "<details>\n",
        "\n",
        "<summary>Solution </summary>\n",
        "\n",
        "```\n",
        "k = 0.75, m = 1, so the equation for the slope is y = 0.75x + 1\n",
        "```\n",
        "\n",
        "</details>\n"
      ]
    },
    {
      "cell_type": "code",
      "execution_count": 58,
      "metadata": {
        "colab": {
          "base_uri": "https://localhost:8080/"
        },
        "id": "mI3fHolCkO-W",
        "outputId": "6adc62aa-bdf4-433d-e772-56456d971bf7"
      },
      "outputs": [
        {
          "data": {
            "text/plain": [
              "'K = 0.75, M = 1.0, Ekvationen blev 0.75x + 1 vilket då om x = 4 blir y = 4.0'"
            ]
          },
          "execution_count": 58,
          "metadata": {},
          "output_type": "execute_result"
        }
      ],
      "source": [
        "# y = Kx + m\n",
        "# k = lutning m = skär y axeln\n",
        "y2 = 4\n",
        "y1 = 1\n",
        "x2 = 4\n",
        "x1 = 0\n",
        "\n",
        "k = (y2 - y1) / (x2 - x1)\n",
        "#f\"{k}\"\n",
        "\n",
        "m = y1 - k * x1\n",
        "#print(m)\n",
        "#f\"{m}\"\n",
        "x = 4\n",
        "y = 0.75 * x + 1\n",
        "\n",
        "#print(y)\n",
        "#f\"y\" kan inte ha fler f strängar i samma kodblock\n",
        "f\"K = {k}, M = {m}, Ekvationen blev 0.75x + 1 vilket då om x = 4 blir y = {y}\""
      ]
    },
    {
      "cell_type": "markdown",
      "metadata": {
        "id": "W84YXZd1durQ"
      },
      "source": [
        "<details>\n",
        "\n",
        "<summary>Hint </summary>\n",
        "The formula is:\n",
        "\n",
        "$\\text{distance} = \\sqrt{(x_2-x_1)^2 +(y_2-y_1)^2}$\n",
        "\n",
        "[Video lecture][video_distance] (Swedish)\n",
        "\n",
        "[video_distance]: https://www.youtube.com/watch?v=DrTsKgHg7ng\n",
        "\n",
        "</details>\n",
        "<br>\n",
        "<details>\n",
        "\n",
        "<summary>Answer </summary>\n",
        "\n",
        "```\n",
        "The distance is around 5.1 length units.\n",
        "```\n",
        "\n",
        "</details>"
      ]
    },
    {
      "cell_type": "markdown",
      "metadata": {
        "id": "E3KJ2pa3durP"
      },
      "source": [
        "---\n",
        "## 5. Euclidean distance (*)\n",
        "\n",
        "The Euclideam distance between the points $P_1$ and $P_2$ is the length of a line between them. Let $P_1: (3,5)$ and $P_2: (-2,4)$ and compute the distance between them."
      ]
    },
    {
      "cell_type": "code",
      "execution_count": 57,
      "metadata": {
        "colab": {
          "base_uri": "https://localhost:8080/"
        },
        "id": "yKJTW1tpoYYk",
        "outputId": "95f8e4d4-6ce4-45ba-f73c-c6d37963b3db"
      },
      "outputs": [
        {
          "data": {
            "text/plain": [
              "'5.1'"
            ]
          },
          "execution_count": 57,
          "metadata": {},
          "output_type": "execute_result"
        }
      ],
      "source": [
        "import math\n",
        "x2 = -2\n",
        "x1 = 3\n",
        "y2 = 4\n",
        "y1 = 5\n",
        "\n",
        "#distance = math.sqrt((x2-x1)**2 + (y2 - y1)**2)\n",
        "#print(round(distance,1))\n",
        "f\"{round(math.sqrt((x2-x1)**2 + (y2 - y1)**2),1)}\""
      ]
    },
    {
      "cell_type": "markdown",
      "metadata": {
        "id": "0Z_mmhhRdurQ"
      },
      "source": [
        "---\n",
        "## 6. Euclidean distance in 3D (**)\n",
        "\n",
        "Calculate the distance between the points $P_1: (2,1,4)$ and $P_2: (3,1,0)$\n",
        "\n",
        "<details>\n",
        "\n",
        "<summary>Hint </summary>\n",
        "\n",
        "Let $p =(p_1, p_2, p_3)$ and $q = (q_1, q_2, q_3) \\Rightarrow$   \n",
        "\n",
        "$d(p,q) = \\sqrt{(p_1-q_1)^2 +(p_2-q_2)^2 +(p_3-q_3)^2 }$, where $d(p,q)$ is the Euclidean distance between $p$ and $q$\n",
        "\n",
        "</details>\n",
        "<br>\n",
        "<details>\n",
        "\n",
        "<summary>Answer </summary>\n",
        "\n",
        "```\n",
        "The distance is around 4.12 l.u.\n",
        "```\n",
        "\n",
        "</details>"
      ]
    },
    {
      "cell_type": "code",
      "execution_count": 56,
      "metadata": {
        "colab": {
          "base_uri": "https://localhost:8080/"
        },
        "id": "m_zQV99RqCAY",
        "outputId": "9138c901-edf2-4e93-e860-c2aed77b597e"
      },
      "outputs": [
        {
          "data": {
            "text/plain": [
              "'4.12'"
            ]
          },
          "execution_count": 56,
          "metadata": {},
          "output_type": "execute_result"
        }
      ],
      "source": [
        "import math\n",
        "p1 = 2\n",
        "p2 = 1\n",
        "p3 = 4\n",
        "q1 = 3\n",
        "q2 = 1\n",
        "q3 = 0\n",
        "\n",
        "p = (p1,p2,p3)\n",
        "q = (q1,q2,q3)\n",
        "\n",
        "#formula = math.sqrt((p1 - q1)**2 + (p2 - q2)**2 + (p3 - q3)**2)\n",
        "#print(round(formula,2))\n",
        "#Done! \n",
        "f\"{round(math.sqrt((p1 - q1)**2 + (p2 - q2)**2 + (p3 - q3)**2),2)}\""
      ]
    },
    {
      "cell_type": "markdown",
      "metadata": {
        "id": "NFCpH4dYdurQ"
      },
      "source": [
        "---\n",
        "\n",
        "Kokchun Giang\n",
        "\n",
        "[LinkedIn][linkedIn_kokchun]\n",
        "\n",
        "[GitHub portfolio][github_portfolio]\n",
        "\n",
        "[linkedIn_kokchun]: https://www.linkedin.com/in/kokchungiang/\n",
        "[github_portfolio]: https://github.com/kokchun/Portfolio-Kokchun-Giang\n",
        "\n",
        "---"
      ]
    }
  ],
  "metadata": {
    "colab": {
      "provenance": []
    },
    "kernelspec": {
      "display_name": "Python 3.9.6 64-bit",
      "language": "python",
      "name": "python3"
    },
    "language_info": {
      "codemirror_mode": {
        "name": "ipython",
        "version": 3
      },
      "file_extension": ".py",
      "mimetype": "text/x-python",
      "name": "python",
      "nbconvert_exporter": "python",
      "pygments_lexer": "ipython3",
      "version": "3.11.5"
    },
    "orig_nbformat": 4,
    "vscode": {
      "interpreter": {
        "hash": "0da836a34428266995a795f1e1e27b816fa1c02f148d9728b3fbbbc5459afca6"
      }
    }
  },
  "nbformat": 4,
  "nbformat_minor": 0
}
