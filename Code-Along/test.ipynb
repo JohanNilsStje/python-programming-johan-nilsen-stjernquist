{
 "cells": [
  {
   "cell_type": "code",
   "execution_count": 31,
   "metadata": {},
   "outputs": [
    {
     "name": "stdout",
     "output_type": "stream",
     "text": [
      "5005\n"
     ]
    }
   ],
   "source": [
    "# Loop without for or while\n",
    "# If looped to many times it will get recurssion error\n",
    "def runner(index):\n",
    "  index += 1\n",
    "  if index <= 1000:\n",
    "    runner(index)\n",
    "\n",
    "runner(1)\n",
    "\n",
    "my_int = 5000\n",
    "print(my_int+5)\n"
   ]
  }
 ],
 "metadata": {
  "kernelspec": {
   "display_name": "Python 3",
   "language": "python",
   "name": "python3"
  },
  "language_info": {
   "codemirror_mode": {
    "name": "ipython",
    "version": 3
   },
   "file_extension": ".py",
   "mimetype": "text/x-python",
   "name": "python",
   "nbconvert_exporter": "python",
   "pygments_lexer": "ipython3",
   "version": "3.11.5"
  },
  "orig_nbformat": 4
 },
 "nbformat": 4,
 "nbformat_minor": 2
}
