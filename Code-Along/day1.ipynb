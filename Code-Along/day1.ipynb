{
 "cells": [
  {
   "cell_type": "markdown",
   "metadata": {},
   "source": [
    "Välkommen till dag 1 av kodning!"
   ]
  },
  {
   "cell_type": "code",
   "execution_count": 1,
   "metadata": {},
   "outputs": [
    {
     "name": "stdout",
     "output_type": "stream",
     "text": [
      "<class 'int'>\n"
     ]
    }
   ],
   "source": [
    "number = 1\n",
    "print(type(number))\n",
    "#Printar vilken klass number har classen är 'int' vilket betyder heltal"
   ]
  },
  {
   "cell_type": "code",
   "execution_count": 7,
   "metadata": {},
   "outputs": [
    {
     "name": "stdout",
     "output_type": "stream",
     "text": [
      "<class 'float'>\n",
      "<class 'int'>\n",
      "0\n",
      "<class 'float'>\n",
      "0.11\n"
     ]
    }
   ],
   "source": [
    "decimal = 0.111111\n",
    "print(type(decimal))\n",
    "#Printar vilken klass decimal har. Klassen är float vilket betyder att den har decimaler.\n",
    "print(type(round(decimal)))\n",
    "print(round(decimal))\n",
    "#Ifall vi roundar numret till ett heltal då blir det en int istället för float. \n",
    "#Vi kan ändra det ifall vi vill med hjälp round(decimal, 1-1000) där 1-1000 är hur många decimaler vi ska runda till\n",
    "print(type(round(decimal, 2)))\n",
    "print(round(decimal, 2))"
   ]
  }
 ],
 "metadata": {
  "kernelspec": {
   "display_name": "Python 3",
   "language": "python",
   "name": "python3"
  },
  "language_info": {
   "codemirror_mode": {
    "name": "ipython",
    "version": 3
   },
   "file_extension": ".py",
   "mimetype": "text/x-python",
   "name": "python",
   "nbconvert_exporter": "python",
   "pygments_lexer": "ipython3",
   "version": "3.11.5"
  },
  "orig_nbformat": 4
 },
 "nbformat": 4,
 "nbformat_minor": 2
}
