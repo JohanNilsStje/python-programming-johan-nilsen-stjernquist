{
 "cells": [
  {
   "cell_type": "markdown",
   "metadata": {},
   "source": [
    "### Object oriented programming (OOP)\n",
    "\n",
    "A \"class\" is a blue print that can be used to create objects\\n\n",
    "\n",
    "An \"instance\" is the actually object containg data and methods\\n"
   ]
  },
  {
   "cell_type": "code",
   "execution_count": 7,
   "metadata": {},
   "outputs": [
    {
     "name": "stdout",
     "output_type": "stream",
     "text": [
      "Fredrik Johansson\n",
      "Grade: 3.0 Age: 42\n",
      "\n",
      "Anna Karlsson\n",
      "Grade: 3.0 Age: 24\n",
      "\n",
      "Johan Nilsen Stjernquist\n",
      "Grade: 3.0 Age: 27\n",
      "\n"
     ]
    }
   ],
   "source": [
    "student_a = {\"FirstName\": \"Fredrik\", \"LastName\": \"Johansson\", \"Age\": 42, \"Grade\": 3.4}\n",
    "student_b = {\"FirstName\": \"Anna\", \"LastName\": \"Karlsson\", \"Age\": 24, \"Grade\": 4.2}\n",
    "student_c = {\"FirstName\": \"Johan\", \"LastName\": \"Nilsen Stjernquist\", \"Age\": 27, \"Grade\": 4.9}\n",
    "\n",
    "students = [student_a, student_b, student_c]\n",
    "\n",
    "def set_grade(student, grade):\n",
    "    student[\"Grade\"] = grade\n",
    "\n",
    "def get_name(student):\n",
    "    return f'{student[\"FirstName\"]} {student[\"LastName\"]}'\n",
    "\n",
    "def get_grade(student):\n",
    "    return f\"Grade: {student['Grade']} Age: {student['Age']}\"\n",
    "\n",
    "for student in students:\n",
    "    set_grade(student, 3.0)\n",
    "    print(get_name(student))\n",
    "    print(get_grade(student))\n",
    "    print()\n",
    "\n",
    "pass"
   ]
  },
  {
   "cell_type": "code",
   "execution_count": 30,
   "metadata": {},
   "outputs": [],
   "source": [
    "class Employee:\n",
    "  def __init__(self, name, salary):\n",
    "    self.name = name\n",
    "    self._salary = 0 if salary < 0 else salary\n",
    "    \n",
    "  def set_salary(self, salary):\n",
    "    self._salary = 0 if salary < 0 else salary\n",
    "\n",
    "  def get_salary(self):\n",
    "    return self._salary\n",
    "    "
   ]
  },
  {
   "cell_type": "code",
   "execution_count": 31,
   "metadata": {},
   "outputs": [
    {
     "name": "stdout",
     "output_type": "stream",
     "text": [
      "-50\n",
      "25000\n"
     ]
    }
   ],
   "source": [
    "employee = Employee(\"Anders\", 45000)\n",
    "employee2 = Employee(\"Tonny\", 40000)\n",
    "\n",
    "employee.set_salary(25000)\n",
    "employee2.set_salary(25000)\n",
    "\n",
    "employee._salary = -50\n",
    "\n",
    "print(employee.get_salary())\n",
    "print(employee2.get_salary())"
   ]
  }
 ],
 "metadata": {
  "kernelspec": {
   "display_name": "Python 3",
   "language": "python",
   "name": "python3"
  },
  "language_info": {
   "codemirror_mode": {
    "name": "ipython",
    "version": 3
   },
   "file_extension": ".py",
   "mimetype": "text/x-python",
   "name": "python",
   "nbconvert_exporter": "python",
   "pygments_lexer": "ipython3",
   "version": "3.11.5"
  },
  "orig_nbformat": 4
 },
 "nbformat": 4,
 "nbformat_minor": 2
}
