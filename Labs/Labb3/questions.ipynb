{
 "cells": [
  {
   "cell_type": "markdown",
   "metadata": {},
   "source": [
    "Frågor till Fredrik:\n",
    "\n",
    "Hur ska man använda \"__str__\" \"__rpr__\" \"__eq__\" och andra magic methods på ett korrekt sätt\n",
    "\n",
    "För att lösa dessa steg:\n",
    "\n",
    "en operator overload av == för att checka likhet __eq__(self, other) aka Magic Method\n",
    "\n",
    "en operator overload av komparatoroperatorer <,>,<=,>= för jämförelser\n",
    "\n",
    "en override av __repr__()\n",
    "\n",
    "en override av __str__()\n",
    "\n",
    "Vad är ett bra sätt att implementera felhantering i koden som jag redan skrivit?\n",
    "\n",
    "Har svårt att börja göra en plannering innan jag skrivit lite kod för att testa hur programmet kan fungera. Vad är några tips du har för att skriva en plannering som är lättförstålig och inte allt för komplicerad vilket leder till att man kan vara kreativ med lösningar?\n"
   ]
  }
 ],
 "metadata": {
  "language_info": {
   "name": "python"
  }
 },
 "nbformat": 4,
 "nbformat_minor": 2
}
