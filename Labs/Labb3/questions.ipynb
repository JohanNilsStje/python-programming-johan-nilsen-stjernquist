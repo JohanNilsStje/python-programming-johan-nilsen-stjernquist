{
 "cells": [
  {
   "cell_type": "markdown",
   "metadata": {},
   "source": [
    "Implementera magic method str och repr för Circle Rektangle and Geometry_common\n",
    "1. Fixa str för klasserna (Check)\n",
    "2. Fixa repr för klasserna (Check)\n",
    "3. Fixa docstring för Geometry_common, Circle, Rectangle (Check)\n",
    "3. Fixa is_inside för rektangel (Check)\n",
    "4. Skriva testkod som använder de olika funktionerna i Cirkel och Rektangel(Check)\n",
    "5. När det är fixat flytta över koden från testcodes till geometry_shapes (Check)\n"
   ]
  }
 ],
 "metadata": {
  "language_info": {
   "name": "python"
  }
 },
 "nbformat": 4,
 "nbformat_minor": 2
}
