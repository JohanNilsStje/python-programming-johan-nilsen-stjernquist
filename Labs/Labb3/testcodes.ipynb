{
 "cells": [
  {
   "cell_type": "markdown",
   "metadata": {},
   "source": [
    "Hej! Välkommen till Labb 3!\n",
    "\n",
    "Syftet med den här laborationen är att använda objektorienterad programmering i Python för att designa\n",
    "program med god struktur.\n",
    "\n",
    "I den här laborationen ska du börja med att planera hur du vill strukturera dina klasser med hjälp av UML\n",
    "och därefter implementera din planering i Python."
   ]
  },
  {
   "cell_type": "code",
   "execution_count": 45,
   "metadata": {},
   "outputs": [],
   "source": [
    "#Geometry_common Klassen\n",
    "class Geometry_common:\n",
    "  def __init__(self,x,y):\n",
    "    #Positioner i Koordinatsystem\n",
    "    self._x = int(x)\n",
    "    self._y = int(y)\n",
    "\n",
    "  def get_x(self):\n",
    "    return self._x\n",
    "  def get_y(self):\n",
    "    return self._y\n",
    "  def set_x(self, value):\n",
    "    self._x = value\n",
    "  def set_y(self, value):\n",
    "    self._y = value\n",
    "  def translate(self,x,y):\n",
    "    try:\n",
    "      self._x = int(x)\n",
    "      self._y = int(y)\n",
    "    except Exception:\n",
    "      print(\"You need to enter int or float. Example translate(int,int), translate(float,float) if you do translate(str, str) this message will apear!\")\n",
    "    pass"
   ]
  },
  {
   "cell_type": "code",
   "execution_count": 46,
   "metadata": {},
   "outputs": [],
   "source": [
    "#Cirkel Klassen\n",
    "class Circle(Geometry_common):\n",
    "  def __init__(self, x, y, radius):\n",
    "    super().__init__(x,y)\n",
    "    self.radius = radius\n",
    "  \n",
    "\n",
    "  #Area / Circumfrance for Circle\n",
    "  def set_radius(self, value):\n",
    "    self.radius = value\n",
    "\n",
    "  def get_area(self):\n",
    "    area = 3.1415 * (self.radius*self.radius)\n",
    "    print(f\"Area = {area}\")\n",
    "    return area\n",
    "  \n",
    "  def get_circumfrence(self):\n",
    "    # C = 2πr\n",
    "    circumfrance = 6.2830 * self.radius\n",
    "    print(f\"Circumfrance = {circumfrance}\")\n",
    "    return circumfrance\n",
    "  def is_unit_circle(self):\n",
    "    return self.radius == 1"
   ]
  },
  {
   "cell_type": "markdown",
   "metadata": {},
   "source": [
    "en area property #Check for both\n",
    "\n",
    "en omkrets property #Check for both\n",
    "\n",
    "en metod som checkar om cirkelinstansen är en enhetscirkel #Check\n",
    "\n",
    "en metod som checkar om rektangelinstansen är en kvadrat #Check\n",
    "\n",
    "x och y som representerar mittpositionen av objektet #Check\n",
    "\n",
    "en translationsmetod som gör det möjligt att förflytta x och y #Check \n",
    "\n",
    "en operator overload av == för att checka likhet __eq__(self, other) aka Magic Method\n",
    "\n",
    "en operator overload av komparatoroperatorer <,>,<=,>= för jämförelser\n",
    "\n",
    "en override av __repr__()\n",
    "\n",
    "en override av __str__()\n",
    "\n",
    "en metod som checkar om en viss punkt befinner sig innanför i objektet #Check for circle\n",
    "\n",
    "felhantering #Check for the given test code\n",
    "\n"
   ]
  },
  {
   "cell_type": "code",
   "execution_count": 58,
   "metadata": {},
   "outputs": [],
   "source": [
    "#Rektangel Klassen\n",
    "class Rectangle(Geometry_common):\n",
    "  def __init__(self, x, y, side1, side2):\n",
    "    super().__init__(x,y)\n",
    "    self.side1 = side1\n",
    "    self.side2 = side2\n",
    "\n",
    "  def set_sides(self,side1,side2):\n",
    "    self.side1 = side1\n",
    "    self.side2 = side2\n",
    "    \n",
    "  #Area / Circumfrance for Rectangle\n",
    "  def get_area(self):\n",
    "    area = self.side1 * self.side2\n",
    "    print(f\"Area = {area}\")\n",
    "    return area\n",
    "  def get_circumfrence(self):\n",
    "    circumfrance = self.side1*2 + self.side2*2\n",
    "    print(f\"Circumfrance = {circumfrance}\")\n",
    "    return circumfrance\n",
    "  \n",
    "  def is_square(self):\n",
    "    return self.side1 == self.side2\n",
    "  \n",
    "  def __str__(self) -> str:\n",
    "    return \"This a rektangle\"\n",
    "  def __repr__(self) -> str:\n",
    "    \n",
    "    pass\n"
   ]
  },
  {
   "cell_type": "markdown",
   "metadata": {},
   "source": [
    "Test zonen"
   ]
  },
  {
   "cell_type": "code",
   "execution_count": 59,
   "metadata": {},
   "outputs": [
    {
     "name": "stdout",
     "output_type": "stream",
     "text": [
      "5 and 2\n",
      "Area = 78.53750000000001\n",
      "78.53750000000001\n",
      "Circumfrance = 31.400000000000002\n",
      "31.400000000000002\n",
      "True\n",
      "Area = 4\n",
      "Circumfrance = 8\n",
      "False\n",
      "True\n",
      "<__main__.Circle object at 0x000001ED3CF15A90>\n",
      "This a rektangle\n"
     ]
    }
   ],
   "source": [
    "\n",
    "cirkel1 = Circle(x=1,y=2,radius=5)\n",
    "\n",
    "cirkel1.get_x()\n",
    "\n",
    "rektangle1 = Rectangle(x=1,y=2,side1=2,side2=2)\n",
    "\n",
    "rektangle1.set_x(5)\n",
    "print(f\"{rektangle1.get_x()} and {rektangle1.get_y()}\")\n",
    "\n",
    "print(cirkel1.get_area())\n",
    "\n",
    "print(cirkel1.get_circumfrence())\n",
    "\n",
    "\n",
    "rektangle1.set_sides(2,2)\n",
    "print(rektangle1.is_square())\n",
    "rektangle1.get_area()\n",
    "\n",
    "rektangle1.get_circumfrence()\n",
    "\n",
    "print(cirkel1.is_unit_circle())\n",
    "cirkel1.set_radius(1)\n",
    "print(cirkel1.is_unit_circle())\n",
    "\n",
    "print(cirkel1)\n",
    "print(rektangle1)\n"
   ]
  },
  {
   "cell_type": "markdown",
   "metadata": {},
   "source": [
    "LABB 3 test kommandon"
   ]
  },
  {
   "cell_type": "code",
   "execution_count": 49,
   "metadata": {},
   "outputs": [
    {
     "name": "stdout",
     "output_type": "stream",
     "text": [
      "False\n",
      "False\n",
      "x5 y5\n",
      "You need to enter int or float. Example translate(int,int), translate(float,float) if you do translate(str, str) this message will apear!\n",
      "x5 y5\n"
     ]
    }
   ],
   "source": [
    "cirkel1 = Circle(x=0,y=0, radius=1) # enhetscirkel\n",
    "cirkel2 = Circle(x=1,y=1, radius=1)\n",
    "rektangel = Rectangle(x=0,y=0,side1=1, side2=1)\n",
    "\n",
    "print(cirkel1==cirkel2) # True\n",
    "\n",
    "print(cirkel2==rektangel) # False\n",
    "\n",
    "# print(cirkel1.is_inside(0.5, 0.5)) # True behöver skapa def is_inside Circle eller Geometry_common beror på ifall den kommer använda samma logik som Rectangle\n",
    "\n",
    "cirkel1.translate(5,5)\n",
    "print(f\"x{cirkel1.get_x()} y{cirkel1.get_y()}\")\n",
    "\n",
    "# print(cirkel1.is_inside(0.5, 0.5)) # False -11-\n",
    "\n",
    "cirkel1.translate(\"TRE\",5) #WORKS\n",
    "\n",
    "print(f\"x{cirkel1.get_x()} y{cirkel1.get_y()}\")"
   ]
  },
  {
   "cell_type": "code",
   "execution_count": 54,
   "metadata": {},
   "outputs": [
    {
     "name": "stdout",
     "output_type": "stream",
     "text": [
      "True\n",
      "False\n",
      "True\n",
      "\n",
      "  Circle is a child of the Geometry_common class\n",
      "  To use this class you need to enter name = Circle(x=int,y=int,radius=int)\n",
      "  Circle contains many functions such as: \n",
      "  set_radius, get_area, get_circumfrence, is_unit_circle, is_inside, translate, get_x,get_y,set_x and set_y\n",
      "  \n"
     ]
    }
   ],
   "source": [
    "#The is_inside() function for Circle class\n",
    "# if ecu distance is shorter than the radius it is inside. else no\n",
    "import math\n",
    "class Circle(Geometry_common):\n",
    "  \"\"\"\n",
    "  Circle is a child of the Geometry_common class\n",
    "  To use this class you need to enter name = Circle(x=int,y=int,radius=int)\n",
    "  Circle contains many functions such as: \n",
    "  set_radius, get_area, get_circumfrence, is_unit_circle, is_inside, translate, get_x,get_y,set_x and set_y\n",
    "  \"\"\"\n",
    "  def __init__(self, x, y, radius):\n",
    "    super().__init__(x,y)\n",
    "    self.radius = radius\n",
    "  \n",
    "  #Area / Circumfrance for Circle\n",
    "  def set_radius(self, value) -> int:\n",
    "    self.radius = value\n",
    "    \"\"\"Sets the raidus of Circle set_radius(r) where r is the value of radius\"\"\"\n",
    "\n",
    "  def get_area(self):\n",
    "    area = 3.1415 * (self.radius*self.radius)\n",
    "    print(f\"Area = {area}\")\n",
    "    return area\n",
    "  \n",
    "  def get_circumfrence(self):\n",
    "    # C = 2πr\n",
    "    circumfrance = 3.14 * 2 * self.radius\n",
    "    print(f\"Circumfrance = {circumfrance}\")\n",
    "    return circumfrance\n",
    "  \n",
    "  def is_unit_circle(self):\n",
    "    return self.radius == 1\n",
    "  \n",
    "  def is_inside(self,input_x,input_y):\n",
    "    return math.dist([self.get_x(),self.get_y()],[input_x,input_y]) < self.radius\n",
    "  #Magic Methods\n",
    "  def __eq__(self, other):\n",
    "    try:\n",
    "      return self.radius == other.radius\n",
    "    except Exception:\n",
    "      print(\"You tried to compare an object without the .radius property\")\n",
    "      return False\n",
    "\n",
    "\n",
    "    \n",
    "test_cirkel1 = Circle(0,0,1)\n",
    "test_cirkel2 = Circle(1,1,1)\n",
    "\n",
    "print(f\"{test_cirkel1.is_inside(0.5,0.5)}\")\n",
    "test_cirkel1.translate(5,5)\n",
    "print(f\"{test_cirkel1.is_inside(0.5,0.5)}\")\n",
    "\n",
    "print(test_cirkel1 == test_cirkel2)\n",
    "\n",
    "print(Circle.__doc__)\n"
   ]
  }
 ],
 "metadata": {
  "kernelspec": {
   "display_name": "Python 3",
   "language": "python",
   "name": "python3"
  },
  "language_info": {
   "codemirror_mode": {
    "name": "ipython",
    "version": 3
   },
   "file_extension": ".py",
   "mimetype": "text/x-python",
   "name": "python",
   "nbconvert_exporter": "python",
   "pygments_lexer": "ipython3",
   "version": "3.11.5"
  },
  "orig_nbformat": 4
 },
 "nbformat": 4,
 "nbformat_minor": 2
}
