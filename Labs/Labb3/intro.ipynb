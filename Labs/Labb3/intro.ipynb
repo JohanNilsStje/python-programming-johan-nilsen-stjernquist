{
 "cells": [
  {
   "cell_type": "markdown",
   "metadata": {},
   "source": [
    "Hej! Välkommen till Labb 3!\n",
    "\n",
    "Syftet med den här laborationen är att använda objektorienterad programmering i Python för att designa\n",
    "program med god struktur.\n",
    "\n",
    "I den här laborationen ska du börja med att planera hur du vill strukturera dina klasser med hjälp av UML\n",
    "och därefter implementera din planering i Python."
   ]
  },
  {
   "cell_type": "code",
   "execution_count": 5,
   "metadata": {},
   "outputs": [
    {
     "name": "stdout",
     "output_type": "stream",
     "text": [
      "2\n",
      "3\n",
      "5\n"
     ]
    }
   ],
   "source": [
    "from geometry_shapes import Circle, Rectangle\n",
    "\n",
    "cirkel1 = Circle(x=0,y=0, radius=2) # enhetscirkel\n",
    "\n",
    "cirkel2 = Circle(x=1,y=1, radius=3)\n",
    "\n",
    "rektangel = Rectangle(x=0,y=0,side1=5, side2=1)\n",
    "\n",
    "print(cirkel1.radius)\n",
    "print(cirkel2.radius)\n",
    "print(rektangel.side1)\n",
    "\n",
    "#Nu har vi en fungerande klasser! Dags att lägga till lite funktionalitet i dem!\n"
   ]
  },
  {
   "cell_type": "markdown",
   "metadata": {},
   "source": [
    "Vi börjar med att skapa en klass som heter Geometry_Shapes\n",
    "\n",
    "I Geometry_Shapes vill vi lägga till alla funktioner och variabler som kommer delas mellan klassen Circle och Rectangle\n",
    "\n",
    "Ett exempel kan vara y och x position samt area. Skillnaden emellan Circle och Rectangle är att circle har en radie och Rectangle har en height och width. \n",
    "\n",
    "Man beräknar också arean på en Circle och Rectangle olika."
   ]
  }
 ],
 "metadata": {
  "kernelspec": {
   "display_name": "Python 3",
   "language": "python",
   "name": "python3"
  },
  "language_info": {
   "codemirror_mode": {
    "name": "ipython",
    "version": 3
   },
   "file_extension": ".py",
   "mimetype": "text/x-python",
   "name": "python",
   "nbconvert_exporter": "python",
   "pygments_lexer": "ipython3",
   "version": "3.11.5"
  },
  "orig_nbformat": 4
 },
 "nbformat": 4,
 "nbformat_minor": 2
}
