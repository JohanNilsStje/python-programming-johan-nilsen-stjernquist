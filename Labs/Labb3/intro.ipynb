{
 "cells": [
  {
   "cell_type": "markdown",
   "metadata": {},
   "source": [
    "Hej! Välkommen till Labb 3!\n",
    "\n",
    "Syftet med den här laborationen är att använda objektorienterad programmering i Python för att designa\n",
    "program med god struktur.\n",
    "\n",
    "I den här laborationen ska du börja med att planera hur du vill strukturera dina klasser med hjälp av UML\n",
    "och därefter implementera din planering i Python."
   ]
  },
  {
   "cell_type": "code",
   "execution_count": 18,
   "metadata": {},
   "outputs": [],
   "source": [
    "#Geometry_common Klassen\n",
    "class Geometry_common:\n",
    "  def __init__(self,x,y):\n",
    "    #Positioner i Koordinatsystem\n",
    "    self._x = x\n",
    "    self._y = y\n",
    "\n",
    "  def get_x(self):\n",
    "    return self._x\n",
    "  def get_y(self):\n",
    "    return self._y\n",
    "  def set_x(self, value):\n",
    "    self._x = value\n",
    "  def set_y(self, value):\n",
    "    self._y = value\n",
    "  def translate_positions(self,x,y):\n",
    "    self._x = x\n",
    "    self._y = y\n",
    "\n",
    "    #Gemensama nämnare mellan Cirkel och Rektangel ska vara här samt funktioner för att förflytta\n",
    "    pass"
   ]
  },
  {
   "cell_type": "code",
   "execution_count": 90,
   "metadata": {},
   "outputs": [],
   "source": [
    "#Cirkel Klassen\n",
    "class Circle(Geometry_common):\n",
    "  def __init__(self, x, y, radius):\n",
    "    super().__init__(x,y)\n",
    "    self.radius = radius\n",
    "  \n",
    "\n",
    "  #Area / Circumfrance for Circle\n",
    "  def set_radius(self, value):\n",
    "    self.radius = value\n",
    "\n",
    "  def get_area(self):\n",
    "    area = 3.1415 * (self.radius*self.radius)\n",
    "    print(f\"Area = {area}\")\n",
    "    return area\n",
    "  \n",
    "  def get_circumfrence(self):\n",
    "    # C = 2πr\n",
    "    circumfrance = 6.2830 * self.radius\n",
    "    print(f\"Circumfrance = {circumfrance}\")\n",
    "    return circumfrance\n",
    "  def is_unit_circle(self):\n",
    "    return self.radius == 1"
   ]
  },
  {
   "cell_type": "markdown",
   "metadata": {},
   "source": [
    "en area property #Check for both\n",
    "en omkrets property #Check for both\n",
    "en operator overload av == för att checka likhet \n",
    "en operator overload av komparatoroperatorer <,>,<=,>= för jämförelser\n",
    "en override av __repr__()\n",
    "en override av __str__()\n",
    "x och y som representerar mittpositionen av objektet #Check\n",
    "en translationsmetod som gör det möjligt att förflytta x och y #Check \n",
    "en metod som checkar om en viss punkt befinner sig innanför i objektet\n",
    "felhantering\n",
    "en metod som checkar om cirkelinstansen är en enhetscirkel\n",
    "en metod som checkar om rektangelinstansen är en kvadrat #Check"
   ]
  },
  {
   "cell_type": "code",
   "execution_count": 88,
   "metadata": {},
   "outputs": [],
   "source": [
    "#Rektangel Klassen\n",
    "class Rectangle(Geometry_common):\n",
    "  def __init__(self, x, y, side1, side2):\n",
    "    super().__init__(x,y)\n",
    "    self.x_pos = x\n",
    "    self.y_pos = y\n",
    "    self.side1 = side1\n",
    "    self.side2 = side2\n",
    "\n",
    "  def set_sides(self,side1,side2):\n",
    "    self.side1 = side1\n",
    "    self.side2 = side2\n",
    "    \n",
    "  #Area / Circumfrance for Rectangle\n",
    "  def get_area(self):\n",
    "    area = self.side1 * self.side2\n",
    "    print(f\"Area = {area}\")\n",
    "    return area\n",
    "  def get_circumfrence(self):\n",
    "    circumfrance = self.side1*2 + self.side2*2\n",
    "    print(f\"Circumfrance = {circumfrance}\")\n",
    "    return circumfrance\n",
    "  \n",
    "  def is_square(self):\n",
    "    return self.side1 == self.side2\n",
    "    \n",
    "  def __str__(self) -> str:\n",
    "    \n",
    "    pass\n",
    "  def __repr__(self) -> str:\n",
    "    \n",
    "    pass\n"
   ]
  },
  {
   "cell_type": "markdown",
   "metadata": {},
   "source": [
    "Test zonen"
   ]
  },
  {
   "cell_type": "code",
   "execution_count": 91,
   "metadata": {},
   "outputs": [
    {
     "name": "stdout",
     "output_type": "stream",
     "text": [
      "5 and 2\n",
      "Area = 78.53750000000001\n",
      "78.53750000000001\n",
      "Circumfrance = 31.415000000000003\n",
      "31.415000000000003\n",
      "True\n",
      "Area = 4\n",
      "Circumfrance = 8\n",
      "False\n",
      "True\n"
     ]
    }
   ],
   "source": [
    "\n",
    "cirkel1 = Circle(x=1,y=2,radius=5)\n",
    "\n",
    "cirkel1.get_x()\n",
    "\n",
    "rektangle1 = Rectangle(x=1,y=2,side1=2,side2=2)\n",
    "\n",
    "rektangle1.set_x(5)\n",
    "print(f\"{rektangle1.get_x()} and {rektangle1.get_y()}\")\n",
    "\n",
    "print(cirkel1.get_area())\n",
    "\n",
    "print(cirkel1.get_circumfrence())\n",
    "\n",
    "\n",
    "rektangle1.set_sides(2,2)\n",
    "print(rektangle1.is_square())\n",
    "rektangle1.get_area()\n",
    "\n",
    "rektangle1.get_circumfrence()\n",
    "\n",
    "print(cirkel1.is_unit_circle())\n",
    "cirkel1.set_radius(1)\n",
    "print(cirkel1.is_unit_circle())\n"
   ]
  }
 ],
 "metadata": {
  "kernelspec": {
   "display_name": "Python 3",
   "language": "python",
   "name": "python3"
  },
  "language_info": {
   "codemirror_mode": {
    "name": "ipython",
    "version": 3
   },
   "file_extension": ".py",
   "mimetype": "text/x-python",
   "name": "python",
   "nbconvert_exporter": "python",
   "pygments_lexer": "ipython3",
   "version": "3.11.5"
  },
  "orig_nbformat": 4
 },
 "nbformat": 4,
 "nbformat_minor": 2
}
